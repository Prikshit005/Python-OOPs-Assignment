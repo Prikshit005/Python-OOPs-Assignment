{
  "nbformat": 4,
  "nbformat_minor": 0,
  "metadata": {
    "colab": {
      "provenance": []
    },
    "kernelspec": {
      "name": "python3",
      "display_name": "Python 3"
    },
    "language_info": {
      "name": "python"
    }
  },
  "cells": [
    {
      "cell_type": "markdown",
      "source": [
        "#Python OOPs Assignment"
      ],
      "metadata": {
        "id": "JbWWPniAi0rq"
      }
    },
    {
      "cell_type": "markdown",
      "source": [
        "**1. What is Object-Oriented Programming (OOP)?**\n",
        "- Object-Oriented Programming (OOP) is a way of writing code that focuses on using \"objects\" to represent real-world things. Each object combines data (like a name or color) and actions (like running or jumping) into a single unit. These objects are created from templates called classes. OOP makes it easier to organize code, reuse parts of it, and build bigger programs more efficiently by using key ideas like inheritance (sharing features), encapsulation (hiding details), and polymorphism (doing the same thing in different ways)."
      ],
      "metadata": {
        "id": "v7PMTNwfjAhg"
      }
    },
    {
      "cell_type": "markdown",
      "source": [
        "**2. What is a class in OOP?**\n",
        "- In Object-Oriented Programming (OOP), a class is a blueprint or template for creating objects, which are specific instances of data structures. A class defines a set of attributes (also called properties or fields) and behaviors (methods or functions) that the objects created from the class will have. It encapsulates data and functions together in a single unit, promoting modularity and reusability. For example, a class called Car might include attributes like color, make, and year, and methods like drive() and brake(). When we create an object from the Car class, such as myCar, it inherits all the defined characteristics and functionalities. Classes help organize code logically and support the principles of OOP such as inheritance, encapsulation, and polymorphism."
      ],
      "metadata": {
        "id": "n1i1SqC5jXI8"
      }
    },
    {
      "cell_type": "markdown",
      "source": [
        "**3. What is an object in OOP?**\n",
        "- In simple words, an object in Object-Oriented Programming (OOP) is like a real-life thing that has features (called properties) and can do actions (called methods). It is created from a class, which is like a blueprint. For example, if we have a class called Dog, an object would be a specific dog like myDog, with its own name, color, and the ability to bark or eat. So, an object is a usable version of a class that holds actual data and can perform tasks."
      ],
      "metadata": {
        "id": "E3kBmmMwkx1B"
      }
    },
    {
      "cell_type": "markdown",
      "source": [
        "**4. What is the difference between abstraction and encapsulation?**\n",
        "- The difference between abstraction and encapsulation in Object-Oriented Programming (OOP) lies in their purpose and how they handle complexity:\n",
        "\n",
        "Abstraction is about hiding the complex details and showing only the essential features of an object. It helps we focus on what an object does rather than how it does it. For example, when we drive a car, we use the steering wheel and pedals without needing to know how the engine works — that’s abstraction.\n",
        "\n",
        "Encapsulation, on the other hand, is about hiding the internal data and restricting direct access to it. It keeps the data safe and secure inside the object. This is done by using private variables and giving access through public methods. For example, a class might have a private variable balance, and we can only change it using methods like deposit() or withdraw() — that’s encapsulation."
      ],
      "metadata": {
        "id": "bR7CXaT8k-HX"
      }
    },
    {
      "cell_type": "markdown",
      "source": [
        "**5. What are dunder methods in Python?**\n",
        "- Dunder methods in Python (short for \"double underscore\" methods, also called magic methods) are special built-in methods that start and end with double underscores, like __init__, __str__, or __add__. They are used to define how objects of a class should behave in certain situations, like when they're created, printed, compared, or used with operators."
      ],
      "metadata": {
        "id": "bKcEk_WulOsR"
      }
    },
    {
      "cell_type": "markdown",
      "source": [
        "**6. Explain the concept of inheritance in OOP?**\n",
        "- Inheritance in Object-Oriented Programming (OOP) is a concept where one class (called the child or subclass) can inherit properties and behaviors (attributes and methods) from another class (called the parent or superclass). It allows us to reuse code and create a hierarchy between classes.\n",
        "\n",
        "For example, imagine we have a class called Animal with a method make_sound(). we can create a subclass called Dog that inherits from Animal. The Dog class automatically gets the make_sound() method, but we can also add new methods like fetch() or override the existing ones to behave differently."
      ],
      "metadata": {
        "id": "A8WBsWaAlZ1d"
      }
    },
    {
      "cell_type": "markdown",
      "source": [
        "**7. What is polymorphism in OOP?**\n",
        "- Polymorphism in Object-Oriented Programming (OOP) means \"many forms.\" It allows objects of different classes to be treated as if they are objects of a common parent class, and they can respond to the same method in different ways.\n",
        "\n",
        " In simple words, polymorphism lets us use the same method name or operator, but it behaves differently depending on the object calling it."
      ],
      "metadata": {
        "id": "TelxO03nlpmN"
      }
    },
    {
      "cell_type": "markdown",
      "source": [
        "**8. How is encapsulation achieved in Python?**\n",
        "- Encapsulation in Python is achieved by restricting access to certain parts of an object’s data and controlling it through methods. It helps protect the internal state of an object from unintended changes and keeps the code clean and secure."
      ],
      "metadata": {
        "id": "YbnQlWn0l54M"
      }
    },
    {
      "cell_type": "markdown",
      "source": [
        "**9. What is a constructor in Python?**\n",
        "- A constructor in Python is a special method used to initialize a new object when it is created from a class. In Python, the constructor method is named __init__, and it is automatically called when we create an object."
      ],
      "metadata": {
        "id": "Dmjl2RFQmHRp"
      }
    },
    {
      "cell_type": "markdown",
      "source": [
        "**10. What are class and static methods in Python?**\n",
        "- In Python, class methods and static methods are special types of methods that are defined inside a class but have different behaviors compared to regular instance methods.\n",
        " - **Class Method**:\n",
        "A class method is a method that is bound to the class and not the instance of the class. It is defined using the @classmethod decorator and takes cls (the class itself) as the first argument, not self (which is used for instance methods). Class methods can access or modify class-level attributes but cannot modify instance-level attributes directly.\n",
        " - **Static Method**:\n",
        "A static method is a method that doesn't take either self or cls as its first parameter. It is defined using the @staticmethod decorator. Static methods do not have access to instance-specific data or class-specific data. They behave like regular functions but belong to the class's namespace."
      ],
      "metadata": {
        "id": "ApM3m9OvmTrr"
      }
    },
    {
      "cell_type": "markdown",
      "source": [
        "**11. What is method overloading in Python?**\n",
        "- In Python, method overloading refers to the ability to define multiple methods with the same name but different parameters. However, Python does not natively support method overloading in the same way languages like Java or C++ do. In Python, if we define a method with the same name more than once, the last definition will overwrite the previous ones.\n",
        "That said, we can achieve method overloading-like behavior by using default arguments, variable-length arguments, or manual checks to handle different types and numbers of arguments passed to the method."
      ],
      "metadata": {
        "id": "jajh3heom2Vx"
      }
    },
    {
      "cell_type": "markdown",
      "source": [
        "**12. What is method overriding in OOP?**\n",
        "- Method overriding in Object-Oriented Programming (OOP) is a feature that allows a child class to provide a specific implementation of a method that is already defined in its parent class. The overridden method in the child class has the same name, same parameters, and is meant to replace or extend the behavior of the method in the parent class.\n",
        "The primary purpose of method overriding is to allow a subclass to change or extend the behavior of methods that are inherited from the parent class, while still maintaining the same method signature."
      ],
      "metadata": {
        "id": "vwcRgQgsnL_f"
      }
    },
    {
      "cell_type": "markdown",
      "source": [
        "**13. What is a property decorator in Python?**\n",
        "- The property decorator in Python is a built-in decorator that allows us to define a method that can be accessed like an attribute, rather than calling it like a function. It provides a way to define getter, setter, and deleter methods in a more elegant and readable way, while still maintaining control over how an attribute's value is accessed or modified."
      ],
      "metadata": {
        "id": "-3u6bFRJnZmL"
      }
    },
    {
      "cell_type": "markdown",
      "source": [
        "**14. Why is polymorphism important in OOP?**\n",
        "- Polymorphism is one of the core principles of Object-Oriented Programming (OOP), and it plays a crucial role in making our code more flexible, scalable, and easier to maintain. The word \"polymorphism\" comes from Greek, meaning \"many forms,\" and in OOP, it refers to the ability to treat objects of different classes in a uniform way, even if they behave differently."
      ],
      "metadata": {
        "id": "BS33szrKnqOV"
      }
    },
    {
      "cell_type": "markdown",
      "source": [
        "**15. What is an abstract class in Python?**\n",
        "- An abstract class in Python is a class that cannot be instantiated on its own and is meant to be subclassed by other classes. It is used to define a common interface for its subclasses and may contain abstract methods that the subclasses are required to implement.\n",
        "\n",
        "**Key Characteristics of an Abstract Class:**\n",
        "   - Cannot be instantiated: we cannot create an instance of an abstract class directly. we can only create instances of its concrete (non-abstract) subclasses.\n",
        "\n",
        "   - Abstract Methods: An abstract class can have abstract methods, which are methods that are declared but contain no implementation. These methods must be implemented by any subclass of the abstract class.\n",
        "\n",
        "- Defined using ABC module: In Python, abstract classes are defined by inheriting from the ABC (Abstract Base Class) class, which is provided by the abc module."
      ],
      "metadata": {
        "id": "c204brvMn10p"
      }
    },
    {
      "cell_type": "markdown",
      "source": [
        "**16. What are the advantages of OOP?**\n",
        "- Object-Oriented Programming (OOP) offers several advantages that help developers write more organized, reusable, and maintainable code. Here are some of the key advantages of OOP:\n",
        "Modularity: Breaking down complex systems into smaller, manageable parts.\n",
        "\n",
        " - Code Reusability: Using inheritance to reuse code across classes.\n",
        "\n",
        " - Data Abstraction: Hiding unnecessary details and exposing only essential functionality.\n",
        "\n",
        " - Encapsulation: Protecting object data and ensuring it is accessed and modified properly.\n",
        "\n",
        " - Polymorphism: Allowing different classes to be treated uniformly, simplifying code.\n",
        "\n",
        " - Maintainability: Making code easier to maintain and update.\n",
        "\n",
        " - Real-World Modeling: Representing real-world entities in the code.\n",
        "\n",
        " - Collaboration: Facilitating teamwork and reducing conflicts in development.\n",
        "\n",
        " - Scalability: Adding new features without disrupting the existing codebase.\n",
        "\n",
        " - Better Code Organization: Structuring code in a way that is easier to understand.\n"
      ],
      "metadata": {
        "id": "1GFOzxJOoPSf"
      }
    },
    {
      "cell_type": "markdown",
      "source": [
        "**17. What is the difference between a class variable and an instance variable?**\n",
        "- **Class Variable**\n",
        "  - **Definition** Defined inside the class, outside any methods.\n",
        "  - **Scope**\tShared by all instances of the class.\n",
        "  -**Access**\tAccessed through the class or instance.\n",
        "  -  **Modification**\tModifying a class variable through the class or an instance affects all instances.\n",
        "  - **Use Case**\tStores data that is common to all instances of the class.\n",
        "- **Instance Variable**\n",
        "  - **Definition** Defined inside the __init__ method, using self.\n",
        "  - **Scope**\tUnique to each instance of the class.\n",
        "  -**Access**\tAccessed through an instance of the class (using self).\n",
        "  -  **Modification**\tModifying an instance variable affects only that particular instance.\n",
        "  - **Use Case**\t\tStores data that is unique to each instance of the class."
      ],
      "metadata": {
        "id": "g0puOR00pVJi"
      }
    },
    {
      "cell_type": "markdown",
      "source": [
        "**18. What is multiple inheritance in Python?**\n",
        "- Multiple inheritance in Python is a feature that allows a class to inherit from more than one class. In other words, a child class can inherit attributes and methods from multiple parent classes, combining their behavior. This allows for more flexible and reusable code, as a class can inherit functionality from several classes rather than just one."
      ],
      "metadata": {
        "id": "Edo-Blv8rJGa"
      }
    },
    {
      "cell_type": "markdown",
      "source": [
        "**19. Explain the purpose of ‘’___str___’ and ‘___repr___’ ‘  methods in Python?**\n",
        "- In Python, the __str__ and __repr__ methods are special methods used to define the string representation of objects. These methods are used when we print an object or when we interact with it in a way that expects a string. They serve different purposes, and understanding their distinction is important for clear and consistent output."
      ],
      "metadata": {
        "id": "yUC9_GaDrXV1"
      }
    },
    {
      "cell_type": "markdown",
      "source": [
        "**20. What is the significance of the ‘super()’ function in Python?**\n",
        "- The super() function in Python is used to call a method from a parent class (also known as a superclass) from within a subclass. It is primarily used in inheritance to call methods that are inherited from a parent class and to facilitate method overriding.\n",
        "  - **Significance and Key Uses of super()**:\n",
        "      - Calling Parent Class Methods\n",
        "\n",
        "      - Avoiding Hardcoding Class Names\n",
        "\n",
        "      - Simplifying Multiple Inheritance\n",
        "\n",
        "      - Calling the Parent Class __init__\n",
        "\n",
        "      - Method Resolution Order (MRO)"
      ],
      "metadata": {
        "id": "HYujcR3esegZ"
      }
    },
    {
      "cell_type": "markdown",
      "source": [
        "**21. What is the significance of the __del__ method in Python?**\n",
        "- The __del__ method in Python is a destructor method that is called when an object is about to be destroyed or garbage-collected. It allows us to perform cleanup operations before the object is removed from memory. This is particularly useful for releasing external resources (such as file handles, network connections, or database connections) that are associated with the object, ensuring that they are properly closed or freed.\n",
        " - **Significance of __del__ in Python**:\n",
        "    - Object Cleanup\n",
        "\n",
        "    - Garbage Collection\n",
        "\n",
        "    - Resource Management"
      ],
      "metadata": {
        "id": "i-Wj9ic5uXJG"
      }
    },
    {
      "cell_type": "markdown",
      "source": [
        "**22. What is the difference between @staticmethod and @classmethod in Python?**\n",
        "- In Python, **@staticmethod** and **@classmethod** are both decorators used to define methods that are associated with a class rather than instances of the class, but they serve different purposes. A **@staticmethod** is a method that does not take any special first argument like self or cls, and it behaves like a regular function that just happens to be inside a class. It cannot access or modify the instance or class state and is typically used for utility functions that perform a task in isolation. On the other hand, a **@classmethod** takes cls as its first parameter, which is a reference to the class itself, not an instance. This allows it to access and modify class-level attributes and is often used for factory methods or operations that affect the entire class. In summary, use **@staticmethod** when our method doesn’t need to interact with class or instance data, and use **@classmethod** when our method needs to access or modify class-level information."
      ],
      "metadata": {
        "id": "nzYSvNl3vT82"
      }
    },
    {
      "cell_type": "markdown",
      "source": [
        "**23. How does polymorphism work in Python with inheritance?**\n",
        "- Polymorphism in Python allows objects of different classes to be treated as if they are objects of a common superclass, especially when they share the same method names. When combined with inheritance, polymorphism enables different subclasses to override methods of a parent class and provide their own specific implementations, while still being accessed through a common interface."
      ],
      "metadata": {
        "id": "2QD3aOV7v-tQ"
      }
    },
    {
      "cell_type": "markdown",
      "source": [
        "**24. What is method chaining in Python OOP?**\n",
        "- **Method chaining** in Python OOP is a technique where multiple methods are called on the same object in a single line, one after another. This is made possible by designing methods to return the object itself (usually self) after performing their task. It allows for more concise, readable, and fluent code, especially when performing a series of operations on an object."
      ],
      "metadata": {
        "id": "KJtB9sEqwKqn"
      }
    },
    {
      "cell_type": "markdown",
      "source": [
        "**25. What is the purpose of the __call__ method in Python?**\n",
        "- The __call__ method in Python allows an instance of a class to be called like a function. When a class defines the __call__ method, we can use its objects with parentheses () as if they were functions. This is useful when we want our object to have a callable behavior, making it behave like a function while still maintaining internal state or encapsulating logic.\n",
        "\n",
        "- **Purpose of __call__:**\n",
        "   - To make an object callable like a function.\n",
        "\n",
        "   - To encapsulate logic inside an object that behaves like a function.\n",
        "\n",
        "  - Commonly used in:\n",
        "\n",
        "     - **Decorators**\n",
        "\n",
        "    - **Function wrappers**\n",
        "\n",
        "    - **Callback systems**\n",
        "    -  **Machine learning models** (e.g., custom layers or models that process input when called)"
      ],
      "metadata": {
        "id": "IJn8-kvNwXMX"
      }
    },
    {
      "cell_type": "markdown",
      "source": [
        "#Practical questions"
      ],
      "metadata": {
        "id": "ZLBJSa0MxHdu"
      }
    },
    {
      "cell_type": "markdown",
      "source": [
        " **1. Create a parent class Animal with a method speak() that prints a generic message. Create a child class Dog that overrides the speak() method to print \"Bark!\"**"
      ],
      "metadata": {
        "id": "22NFg72HxN6r"
      }
    },
    {
      "cell_type": "code",
      "source": [
        "\n",
        "class Animal:\n",
        "    def speak(self):\n",
        "        print(\"The animal makes a sound.\")\n",
        "\n",
        "class Dog(Animal):\n",
        "    def speak(self):\n",
        "        print(\"Bark!\")\n",
        "\n",
        "animal = Animal()\n",
        "dog = Dog()\n",
        "\n",
        "animal.speak()\n",
        "dog.speak()\n"
      ],
      "metadata": {
        "colab": {
          "base_uri": "https://localhost:8080/"
        },
        "id": "b6GeIugKxYQb",
        "outputId": "bd5aa865-f5b8-4433-f450-553947d3812d"
      },
      "execution_count": 1,
      "outputs": [
        {
          "output_type": "stream",
          "name": "stdout",
          "text": [
            "The animal makes a sound.\n",
            "Bark!\n"
          ]
        }
      ]
    },
    {
      "cell_type": "markdown",
      "source": [
        " **2. Write a program to create an abstract class Shape with a method area(). Derive classes Circle and Rectangle from it and implement the area() method in both.**"
      ],
      "metadata": {
        "id": "uJ4RqB2Ux5Jg"
      }
    },
    {
      "cell_type": "code",
      "source": [
        "from abc import ABC, abstractmethod\n",
        "import math\n",
        "\n",
        "class Shape(ABC):\n",
        "    @abstractmethod\n",
        "    def area(self):\n",
        "        pass\n",
        "\n",
        "class Circle(Shape):\n",
        "    def __init__(self, radius):\n",
        "        self.radius = radius\n",
        "\n",
        "    def area(self):\n",
        "        return math.pi * self.radius ** 2\n",
        "\n",
        "class Rectangle(Shape):\n",
        "    def __init__(self, width, height):\n",
        "        self.width = width\n",
        "        self.height = height\n",
        "\n",
        "    def area(self):\n",
        "        return self.width * self.height\n",
        "\n",
        "circle = Circle(5)\n",
        "rectangle = Rectangle(4, 6)\n",
        "\n",
        "print(f\"Area of circle: {circle.area():.2f}\")\n",
        "print(f\"Area of rectangle: {rectangle.area()}\")\n"
      ],
      "metadata": {
        "colab": {
          "base_uri": "https://localhost:8080/"
        },
        "id": "UjWLgE7ryFRy",
        "outputId": "f2b35692-4e57-40f2-baa9-a8f7d35c9b5b"
      },
      "execution_count": 2,
      "outputs": [
        {
          "output_type": "stream",
          "name": "stdout",
          "text": [
            "Area of circle: 78.54\n",
            "Area of rectangle: 24\n"
          ]
        }
      ]
    },
    {
      "cell_type": "markdown",
      "source": [
        " **3. Implement a multi-level inheritance scenario where a class Vehicle has an attribute type. Derive a class Car and further derive a class ElectricCar that adds a battery attribute.**"
      ],
      "metadata": {
        "id": "W_E18B0PyPS4"
      }
    },
    {
      "cell_type": "code",
      "source": [
        "\n",
        "class Vehicle:\n",
        "    def __init__(self, vehicle_type):\n",
        "        self.vehicle_type = vehicle_type\n",
        "\n",
        "    def show_type(self):\n",
        "        print(f\"Vehicle type: {self.vehicle_type}\")\n",
        "\n",
        "class Car(Vehicle):\n",
        "    def __init__(self, vehicle_type, brand):\n",
        "        super().__init__(vehicle_type)\n",
        "        self.brand = brand\n",
        "\n",
        "    def show_brand(self):\n",
        "        print(f\"Car brand: {self.brand}\")\n",
        "\n",
        "class ElectricCar(Car):\n",
        "    def __init__(self, vehicle_type, brand, battery_capacity):\n",
        "        super().__init__(vehicle_type, brand)\n",
        "        self.battery_capacity = battery_capacity\n",
        "\n",
        "    def show_battery(self):\n",
        "        print(f\"Battery capacity: {self.battery_capacity} kWh\")\n",
        "\n",
        "tesla = ElectricCar(\"Electric\", \"Tesla\", 75)\n",
        "tesla.show_type()\n",
        "tesla.show_brand()\n",
        "tesla.show_battery()\n"
      ],
      "metadata": {
        "colab": {
          "base_uri": "https://localhost:8080/"
        },
        "id": "zf3LLm5_yY8G",
        "outputId": "1f606fd1-2d46-4f8c-c8a2-859a8ec433de"
      },
      "execution_count": 3,
      "outputs": [
        {
          "output_type": "stream",
          "name": "stdout",
          "text": [
            "Vehicle type: Electric\n",
            "Car brand: Tesla\n",
            "Battery capacity: 75 kWh\n"
          ]
        }
      ]
    },
    {
      "cell_type": "markdown",
      "source": [
        "**4. Demonstrate polymorphism by creating a base class Bird with a method fly(). Create two derived classes Sparrow and Penguin that override the fly() method.**"
      ],
      "metadata": {
        "id": "_ZADAR5Vyihf"
      }
    },
    {
      "cell_type": "code",
      "source": [
        "\n",
        "class Bird:\n",
        "    def fly(self):\n",
        "        print(\"This bird can fly...\")\n",
        "\n",
        "class Sparrow(Bird):\n",
        "    def fly(self):\n",
        "        print(\"Sparrow flies high in the sky!\")\n",
        "\n",
        "class Penguin(Bird):\n",
        "    def fly(self):\n",
        "        print(\"Penguins can't fly, they swim!\")\n",
        "\n",
        "def show_flying_ability(bird):\n",
        "    bird.fly()\n",
        "\n",
        "sparrow = Sparrow()\n",
        "penguin = Penguin()\n",
        "\n",
        "show_flying_ability(sparrow)\n",
        "show_flying_ability(penguin)\n"
      ],
      "metadata": {
        "colab": {
          "base_uri": "https://localhost:8080/"
        },
        "id": "N738kzHryojz",
        "outputId": "d93decd6-78ad-4cce-a73c-54d38548ba6d"
      },
      "execution_count": 4,
      "outputs": [
        {
          "output_type": "stream",
          "name": "stdout",
          "text": [
            "Sparrow flies high in the sky!\n",
            "Penguins can't fly, they swim!\n"
          ]
        }
      ]
    },
    {
      "cell_type": "markdown",
      "source": [
        "**5. Write a program to demonstrate encapsulation by creating a class BankAccount with private attributes balance and methods to deposit, withdraw, and check balance.**"
      ],
      "metadata": {
        "id": "f03QkpehyzFI"
      }
    },
    {
      "cell_type": "code",
      "source": [
        "class BankAccount:\n",
        "    def __init__(self, initial_balance=0):\n",
        "        self.__balance = initial_balance\n",
        "\n",
        "    def deposit(self, amount):\n",
        "        if amount > 0:\n",
        "            self.__balance += amount\n",
        "            print(f\"Deposited: ${amount}\")\n",
        "        else:\n",
        "            print(\"Deposit amount must be positive.\")\n",
        "\n",
        "    def withdraw(self, amount):\n",
        "        if 0 < amount <= self.__balance:\n",
        "            self.__balance -= amount\n",
        "            print(f\"Withdrew: ${amount}\")\n",
        "        else:\n",
        "            print(\"Insufficient balance or invalid amount.\")\n",
        "\n",
        "    def check_balance(self):\n",
        "        print(f\"Current balance: ${self.__balance}\")\n",
        "\n",
        "account = BankAccount(100)\n",
        "\n",
        "account.deposit(50)\n",
        "account.withdraw(30)\n",
        "account.check_balance()"
      ],
      "metadata": {
        "colab": {
          "base_uri": "https://localhost:8080/"
        },
        "id": "8G4JH0Wcy66a",
        "outputId": "28898884-bd4d-4b59-9b4a-b7d8a61c21fa"
      },
      "execution_count": 5,
      "outputs": [
        {
          "output_type": "stream",
          "name": "stdout",
          "text": [
            "Deposited: $50\n",
            "Withdrew: $30\n",
            "Current balance: $120\n"
          ]
        }
      ]
    },
    {
      "cell_type": "markdown",
      "source": [
        " **6. Demonstrate runtime polymorphism using a method play() in a base class Instrument. Derive classes Guitar and Piano that implement their own version of play().**"
      ],
      "metadata": {
        "id": "UxnUCYyuzFMS"
      }
    },
    {
      "cell_type": "code",
      "source": [
        "\n",
        "class Instrument:\n",
        "    def play(self):\n",
        "        print(\"Playing an instrument...\")\n",
        "\n",
        "class Guitar(Instrument):\n",
        "    def play(self):\n",
        "        print(\"Strumming the guitar 🎸\")\n",
        "\n",
        "class Piano(Instrument):\n",
        "    def play(self):\n",
        "        print(\"Playing the piano 🎹\")\n",
        "\n",
        "def perform(instrument):\n",
        "    instrument.play()\n",
        "\n",
        "guitar = Guitar()\n",
        "piano = Piano()\n",
        "\n",
        "perform(guitar)\n",
        "perform(piano)\n"
      ],
      "metadata": {
        "colab": {
          "base_uri": "https://localhost:8080/"
        },
        "id": "NeotcqykzKiL",
        "outputId": "94699b29-12f7-491e-bcd1-17d7ce322d5d"
      },
      "execution_count": 6,
      "outputs": [
        {
          "output_type": "stream",
          "name": "stdout",
          "text": [
            "Strumming the guitar 🎸\n",
            "Playing the piano 🎹\n"
          ]
        }
      ]
    },
    {
      "cell_type": "markdown",
      "source": [
        " **7. Create a class MathOperations with a class method add_numbers() to add two numbers and a static method subtract_numbers() to subtract two numbers.**"
      ],
      "metadata": {
        "id": "Rapj3-I_zV7X"
      }
    },
    {
      "cell_type": "code",
      "source": [
        "class MathOperations:\n",
        "\n",
        "    @classmethod\n",
        "    def add_numbers(cls, num1, num2):\n",
        "        return num1 + num2\n",
        "\n",
        "    @staticmethod\n",
        "    def subtract_numbers(num1, num2):\n",
        "        return num1 - num2\n",
        "\n",
        "sum_result = MathOperations.add_numbers(10, 5)\n",
        "difference_result = MathOperations.subtract_numbers(10, 5)\n",
        "\n",
        "print(f\"Sum: {sum_result}\")\n",
        "print(f\"Difference: {difference_result}\")\n"
      ],
      "metadata": {
        "colab": {
          "base_uri": "https://localhost:8080/"
        },
        "id": "ITcCxYrDzc3d",
        "outputId": "32ca2d3b-92df-4580-d257-81bbd6a4d476"
      },
      "execution_count": 7,
      "outputs": [
        {
          "output_type": "stream",
          "name": "stdout",
          "text": [
            "Sum: 15\n",
            "Difference: 5\n"
          ]
        }
      ]
    },
    {
      "cell_type": "markdown",
      "source": [
        " **8. Implement a class Person with a class method to count the total number of persons created.**"
      ],
      "metadata": {
        "id": "elBD3WqDzlbB"
      }
    },
    {
      "cell_type": "code",
      "source": [
        "class Person:\n",
        "    _person_count = 0\n",
        "\n",
        "    def __init__(self, name, age):\n",
        "        self.name = name\n",
        "        self.age = age\n",
        "        Person._person_count += 1\n",
        "\n",
        "    @classmethod\n",
        "    def get_person_count(cls):\n",
        "        return cls._person_count\n",
        "\n",
        "person1 = Person(\"Alice\", 30)\n",
        "person2 = Person(\"Bob\", 25)\n",
        "person3 = Person(\"Charlie\", 35)\n",
        "\n",
        "print(f\"Total persons created: {Person.get_person_count()}\")\n"
      ],
      "metadata": {
        "colab": {
          "base_uri": "https://localhost:8080/"
        },
        "id": "qM7pB_rozqRV",
        "outputId": "c21d085a-43a2-41e8-d16b-8bf2eea6f590"
      },
      "execution_count": 8,
      "outputs": [
        {
          "output_type": "stream",
          "name": "stdout",
          "text": [
            "Total persons created: 3\n"
          ]
        }
      ]
    },
    {
      "cell_type": "markdown",
      "source": [
        " **9. Write a class Fraction with attributes numerator and denominator. Override the str method to display the fraction as \"numerator/denominator\".**"
      ],
      "metadata": {
        "id": "Nj3Bh7jpzzIW"
      }
    },
    {
      "cell_type": "code",
      "source": [
        "class Fraction:\n",
        "    def __init__(self, numerator, denominator):\n",
        "        self.numerator = numerator\n",
        "        self.denominator = denominator\n",
        "\n",
        "\n",
        "    def __str__(self):\n",
        "        return f\"{self.numerator}/{self.denominator}\"\n",
        "\n",
        "fraction = Fraction(3, 4)\n",
        "\n",
        "print(fraction)\n"
      ],
      "metadata": {
        "colab": {
          "base_uri": "https://localhost:8080/"
        },
        "id": "n-Q9Mq1Lz62U",
        "outputId": "2abbf5ad-7bad-400d-9966-384a455b5768"
      },
      "execution_count": 9,
      "outputs": [
        {
          "output_type": "stream",
          "name": "stdout",
          "text": [
            "3/4\n"
          ]
        }
      ]
    },
    {
      "cell_type": "markdown",
      "source": [
        " **10. Demonstrate operator overloading by creating a class Vector and overriding the add method to add two vectors.**"
      ],
      "metadata": {
        "id": "3hu6D9nG0Alp"
      }
    },
    {
      "cell_type": "code",
      "source": [
        "class Vector:\n",
        "    def __init__(self, x, y):\n",
        "        self.x = x\n",
        "        self.y = y\n",
        "\n",
        "    def __add__(self, other):\n",
        "        if isinstance(other, Vector):\n",
        "            return Vector(self.x + other.x, self.y + other.y)\n",
        "        return NotImplemented\n",
        "\n",
        "    def __str__(self):\n",
        "        return f\"({self.x}, {self.y})\"\n",
        "\n",
        "vector1 = Vector(2, 3)\n",
        "vector2 = Vector(4, 5)\n",
        "\n",
        "result = vector1 + vector2\n",
        "\n",
        "print(f\"Result of adding vectors: {result}\")\n"
      ],
      "metadata": {
        "colab": {
          "base_uri": "https://localhost:8080/"
        },
        "id": "bADoFxYp0Gno",
        "outputId": "43e5fd74-7e94-46b1-e1f0-4fc2b4f7f15f"
      },
      "execution_count": 10,
      "outputs": [
        {
          "output_type": "stream",
          "name": "stdout",
          "text": [
            "Result of adding vectors: (6, 8)\n"
          ]
        }
      ]
    },
    {
      "cell_type": "markdown",
      "source": [
        " **11. Create a class Person with attributes name and age. Add a method greet() that prints \"Hello, my name is {name} and I am {age} years old.\"**"
      ],
      "metadata": {
        "id": "sYmxp9Gu0NOd"
      }
    },
    {
      "cell_type": "code",
      "source": [
        "class Person:\n",
        "    def __init__(self, name, age):\n",
        "        self.name = name\n",
        "        self.age = age\n",
        "\n",
        "    def greet(self):\n",
        "        print(f\"Hello, my name is {self.name} and I am {self.age} years old.\")\n",
        "\n",
        "person = Person(\"Alice\", 30)\n",
        "\n",
        "person.greet()\n"
      ],
      "metadata": {
        "id": "ff8b-CX40VWR"
      },
      "execution_count": null,
      "outputs": []
    },
    {
      "cell_type": "markdown",
      "source": [
        " **12. Implement a class Student with attributes name and grades. Create a method average_grade() to compute the average of the grades.**"
      ],
      "metadata": {
        "id": "EhM5ditu0aEr"
      }
    },
    {
      "cell_type": "code",
      "source": [
        "class Student:\n",
        "    def __init__(self, name, grades):\n",
        "        self.name = name\n",
        "        self.grades = grades\n",
        "\n",
        "    def average_grade(self):\n",
        "        if len(self.grades) == 0:\n",
        "            return 0\n",
        "        return sum(self.grades) / len(self.grades)\n",
        "\n",
        "student = Student(\"Alice\", [90, 85, 88, 92, 79])\n",
        "\n",
        "average = student.average_grade()\n",
        "\n",
        "print(f\"{student.name}'s average grade is: {average:.2f}\")\n"
      ],
      "metadata": {
        "colab": {
          "base_uri": "https://localhost:8080/"
        },
        "id": "p48N7C5T0isO",
        "outputId": "fa4a3698-22df-4e5b-9d77-635ba3a21557"
      },
      "execution_count": 11,
      "outputs": [
        {
          "output_type": "stream",
          "name": "stdout",
          "text": [
            "Alice's average grade is: 86.80\n"
          ]
        }
      ]
    },
    {
      "cell_type": "markdown",
      "source": [
        " **13. Create a class Rectangle with methods set_dimensions() to set the dimensions and area() to calculate the area.**"
      ],
      "metadata": {
        "id": "UrwShB4q0qlp"
      }
    },
    {
      "cell_type": "code",
      "source": [
        "class Rectangle:\n",
        "    def __init__(self):\n",
        "        self.length = 0\n",
        "        self.width = 0\n",
        "\n",
        "    def set_dimensions(self, length, width):\n",
        "        self.length = length\n",
        "        self.width = width\n",
        "\n",
        "    def area(self):\n",
        "        return self.length * self.width\n",
        "\n",
        "rectangle = Rectangle()\n",
        "\n",
        "rectangle.set_dimensions(5, 3)\n",
        "\n",
        "print(f\"The area of the rectangle is: {rectangle.area()}\")\n"
      ],
      "metadata": {
        "colab": {
          "base_uri": "https://localhost:8080/"
        },
        "id": "RncyOCLN0x0f",
        "outputId": "9834b179-accc-4a58-8d76-4d20d1726878"
      },
      "execution_count": 12,
      "outputs": [
        {
          "output_type": "stream",
          "name": "stdout",
          "text": [
            "The area of the rectangle is: 15\n"
          ]
        }
      ]
    },
    {
      "cell_type": "markdown",
      "source": [
        "**14. Create a class Employee with a method calculate_salary() that computes the salary based on hours worked and hourly rate. Create a derived class Manager that adds a bonus to the salary.**"
      ],
      "metadata": {
        "id": "TU8Qmsns04sH"
      }
    },
    {
      "cell_type": "code",
      "source": [
        "# Base class: Employee\n",
        "class Employee:\n",
        "    def __init__(self, name, hours_worked, hourly_rate):\n",
        "        self.name = name\n",
        "        self.hours_worked = hours_worked\n",
        "        self.hourly_rate = hourly_rate\n",
        "\n",
        "\n",
        "    def calculate_salary(self):\n",
        "        return self.hours_worked * self.hourly_rate\n",
        "\n",
        "class Manager(Employee):\n",
        "    def __init__(self, name, hours_worked, hourly_rate, bonus):\n",
        "\n",
        "        super().__init__(name, hours_worked, hourly_rate)\n",
        "        self.bonus = bonus\n",
        "\n",
        "    def calculate_salary(self):\n",
        "        base_salary = super().calculate_salary()\n",
        "        return base_salary + self.bonus\n",
        "\n",
        "employee = Employee(\"Alice\", 160, 25)\n",
        "employee_salary = employee.calculate_salary()\n",
        "\n",
        "manager = Manager(\"Bob\", 160, 30, 5000)\n",
        "manager_salary = manager.calculate_salary()\n",
        "\n",
        "print(f\"{employee.name}'s salary: ${employee_salary}\")\n",
        "print(f\"{manager.name}'s salary: ${manager_salary}\")\n"
      ],
      "metadata": {
        "colab": {
          "base_uri": "https://localhost:8080/"
        },
        "id": "5Grgmjht0_Ct",
        "outputId": "fe35f680-ffe5-45cf-f0b3-ffb8dcc4c21a"
      },
      "execution_count": 13,
      "outputs": [
        {
          "output_type": "stream",
          "name": "stdout",
          "text": [
            "Alice's salary: $4000\n",
            "Bob's salary: $9800\n"
          ]
        }
      ]
    },
    {
      "cell_type": "markdown",
      "source": [
        "**15. Create a class Product with attributes name, price, and quantity. Implement a method total_price() that calculates the total price of the product.**"
      ],
      "metadata": {
        "id": "H12rt67_1JMX"
      }
    },
    {
      "cell_type": "code",
      "source": [
        "class Product:\n",
        "    def __init__(self, name, price, quantity):\n",
        "        self.name = name\n",
        "        self.price = price\n",
        "        self.quantity = quantity\n",
        "\n",
        "    def total_price(self):\n",
        "        return self.price * self.quantity\n",
        "\n",
        "product = Product(\"Laptop\", 1000, 3)\n",
        "\n",
        "total = product.total_price()\n",
        "\n",
        "print(f\"Total price of {product.name} is: ${total}\")\n"
      ],
      "metadata": {
        "colab": {
          "base_uri": "https://localhost:8080/"
        },
        "id": "nnrn12E81PY7",
        "outputId": "879e0a62-a700-44e6-ea8f-15e33456efae"
      },
      "execution_count": 14,
      "outputs": [
        {
          "output_type": "stream",
          "name": "stdout",
          "text": [
            "Total price of Laptop is: $3000\n"
          ]
        }
      ]
    },
    {
      "cell_type": "markdown",
      "source": [
        "**16. Create a class Animal with an abstract method sound(). Create two derived classes Cow and Sheep that implement the sound() method.**"
      ],
      "metadata": {
        "id": "bSSryZnm1XPL"
      }
    },
    {
      "cell_type": "code",
      "source": [
        "from abc import ABC, abstractmethod\n",
        "\n",
        "class Animal(ABC):\n",
        "    @abstractmethod\n",
        "    def sound(self):\n",
        "        pass\n",
        "\n",
        "class Cow(Animal):\n",
        "    def sound(self):\n",
        "        return \"Moo\"\n",
        "\n",
        "class Sheep(Animal):\n",
        "    def sound(self):\n",
        "        return \"Baa\"\n",
        "\n",
        "cow = Cow()\n",
        "sheep = Sheep()\n",
        "\n",
        "print(f\"Cow sound: {cow.sound()}\")\n",
        "print(f\"Sheep sound: {sheep.sound()}\")\n"
      ],
      "metadata": {
        "colab": {
          "base_uri": "https://localhost:8080/"
        },
        "id": "Rb0jPq8q1-Zp",
        "outputId": "bbfcca59-54ae-4931-e538-b2bc80c009d6"
      },
      "execution_count": 17,
      "outputs": [
        {
          "output_type": "stream",
          "name": "stdout",
          "text": [
            "Cow sound: Moo\n",
            "Sheep sound: Baa\n"
          ]
        }
      ]
    },
    {
      "cell_type": "markdown",
      "source": [
        " **17. Create a class Book with attributes title, author, and year_published. Add a method get_book_info() that returns a formatted string with the book's details.**"
      ],
      "metadata": {
        "id": "82jvF7Rj1gqT"
      }
    },
    {
      "cell_type": "code",
      "source": [
        "class Book:\n",
        "    def __init__(self, title, author, year_published):\n",
        "        self.title = title\n",
        "        self.author = author\n",
        "        self.year_published = year_published\n",
        "\n",
        "    def get_book_info(self):\n",
        "        return f\"'{self.title}' by {self.author}, published in {self.year_published}\"\n",
        "\n",
        "book = Book(\"To Kill a Mockingbird\", \"Harper Lee\", 1960)\n",
        "\n",
        "book_info = book.get_book_info()\n",
        "\n",
        "print(book_info)\n"
      ],
      "metadata": {
        "colab": {
          "base_uri": "https://localhost:8080/"
        },
        "id": "tiIAl0t91lFp",
        "outputId": "e64b035f-3ef7-49fe-8489-6b105cefac02"
      },
      "execution_count": 16,
      "outputs": [
        {
          "output_type": "stream",
          "name": "stdout",
          "text": [
            "'To Kill a Mockingbird' by Harper Lee, published in 1960\n"
          ]
        }
      ]
    },
    {
      "cell_type": "markdown",
      "source": [
        "**18. Create a class House with attributes address and price. Create a derived class Mansion that adds an attribute number_of_rooms.**"
      ],
      "metadata": {
        "id": "HvMu_I1_2FFk"
      }
    },
    {
      "cell_type": "code",
      "source": [
        "\n",
        "class House:\n",
        "    def __init__(self, address, price):\n",
        "        self.address = address\n",
        "        self.price = price\n",
        "\n",
        "    def get_details(self):\n",
        "        return f\"Address: {self.address}, Price: ${self.price}\"\n",
        "\n",
        "class Mansion(House):\n",
        "    def __init__(self, address, price, number_of_rooms):\n",
        "        # Initialize the base class (House)\n",
        "        super().__init__(address, price)\n",
        "        self.number_of_rooms = number_of_rooms\n",
        "\n",
        "\n",
        "    def get_details(self):\n",
        "        return f\"Address: {self.address}, Price: ${self.price}, Number of Rooms: {self.number_of_rooms}\"\n",
        "\n",
        "house = House(\"123 Elm Street\", 250000)\n",
        "\n",
        "mansion = Mansion(\"456 Oak Avenue\", 5000000, 12)\n",
        "\n",
        "print(house.get_details())\n",
        "print(mansion.get_details())\n"
      ],
      "metadata": {
        "colab": {
          "base_uri": "https://localhost:8080/"
        },
        "id": "uexN05bk2nHM",
        "outputId": "b6afbcfb-e6f6-435f-f0fb-9024add28c1d"
      },
      "execution_count": 19,
      "outputs": [
        {
          "output_type": "stream",
          "name": "stdout",
          "text": [
            "Address: 123 Elm Street, Price: $250000\n",
            "Address: 456 Oak Avenue, Price: $5000000, Number of Rooms: 12\n"
          ]
        }
      ]
    }
  ]
}